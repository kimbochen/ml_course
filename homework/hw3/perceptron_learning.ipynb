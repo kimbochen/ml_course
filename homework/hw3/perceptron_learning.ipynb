{
 "cells": [
  {
   "cell_type": "markdown",
   "metadata": {
    "colab_type": "text",
    "id": "cUJ2L8-glQtx"
   },
   "source": [
    "# Homework 3"
   ]
  },
  {
   "cell_type": "markdown",
   "metadata": {},
   "source": [
    "## Library and Data Import\n",
    "\n",
    "1. Libraries `matplotlib.pyplot` and `pandas` are used.\n",
    "2. Read file line by line as type `string`, clean up data using `string.split()` and `list(string)`.\n",
    "3. Create a dataframe `df` from the cleaned-up data.\n",
    "4. Create a numpy array of attributes from `df`."
   ]
  },
  {
   "cell_type": "code",
   "execution_count": 167,
   "metadata": {},
   "outputs": [],
   "source": [
    "import matplotlib.pyplot as plt\n",
    "import pandas as pd\n",
    "\n",
    "#Define column names\n",
    "names = ['a', 'b', 'c', 'd', 'e']\n",
    "\n",
    "# Format data in file\n",
    "examples = []\n",
    "\n",
    "with open('hw3_dataset.txt') as f:\n",
    "    for line in f:\n",
    "        x, y = line.split()\n",
    "        examples.append(list(y))\n",
    "\n",
    "# Load into a dataframe\n",
    "df = pd.DataFrame(examples, columns=names)\n",
    "attr = np.float32(df)"
   ]
  },
  {
   "cell_type": "markdown",
   "metadata": {
    "colab_type": "text",
    "id": "C53aFxoDlYUd"
   },
   "source": [
    "## Perceptron Learning\n",
    "\n",
    "1. $h$ is originally calculated by `np.ceil()`, but to match the data type of ${c}$, \n",
    "   the result of ${x}\\cdot{w}$ is compared with `0.0` as a Boolean expression.\n",
    "2. ${w} = {w} + \\eta(c - h){x}$\n",
    "3. Always assume finish learning before every epoch. Change `learning` to `True` if any $c$ does not equal $h$."
   ]
  },
  {
   "cell_type": "code",
   "execution_count": 168,
   "metadata": {},
   "outputs": [],
   "source": [
    "def perceptron(x, c, eta):\n",
    "    w = np.float32([0.2] * x.shape[1])\n",
    "    pres = 0\n",
    "    learning = True\n",
    "    \n",
    "    while learning:\n",
    "        learning = False\n",
    "        for i in range(n):\n",
    "            h = (np.round(x[i, :] @ w, 2) > 0.0).astype(int)\n",
    "            w = w + eta * (c[i] - h) * x[i, :]\n",
    "            learning = learning or (c[i] != h)\n",
    "        pres += 1\n",
    "    \n",
    "    return pres"
   ]
  },
  {
   "cell_type": "markdown",
   "metadata": {
    "colab_type": "text",
    "id": "o61yYSCamIfE"
   },
   "source": [
    "## Problem 1\n"
   ]
  },
  {
   "cell_type": "code",
   "execution_count": 170,
   "metadata": {
    "colab": {},
    "colab_type": "code",
    "id": "8ocbWzGho9B6"
   },
   "outputs": [
    {
     "name": "stdout",
     "output_type": "stream",
     "text": [
      "   eta  presentations\n",
      "0  0.2             10\n",
      "1  0.4             13\n",
      "2  0.6              2\n",
      "3  0.8             11 \n",
      "\n"
     ]
    },
    {
     "data": {
      "image/png": "[encoded data removed]",
      "text/plain": [
       "<Figure size 432x288 with 1 Axes>"
      ]
     },
     "metadata": {
      "needs_background": "light"
     },
     "output_type": "display_data"
    }
   ],
   "source": [
    "# Convert data into numpy arrays\n",
    "x = np.concatenate([np.ones((20, 1)), attr], axis=1)\n",
    "c = (np.sum(attr, axis=1) > 2).astype(int)\n",
    "\n",
    "eta = [0.2, 0.4, 0.6, 0.8]\n",
    "\n",
    "pres = [perceptron(x, c, e) for e in eta]\n",
    "\n",
    "print(pd.DataFrame(zip(eta, pres), columns=['eta', 'presentations']), '\\n')\n",
    "\n",
    "plt.plot(eta, pres, 'ro')\n",
    "plt.show()"
   ]
  },
  {
   "cell_type": "markdown",
   "metadata": {},
   "source": [
    "## Problem 2"
   ]
  },
  {
   "cell_type": "code",
   "execution_count": 182,
   "metadata": {},
   "outputs": [
    {
     "name": "stdout",
     "output_type": "stream",
     "text": [
      "[10, 3, 7, 5, 8]\n"
     ]
    }
   ],
   "source": [
    "N = [1, 5, 10, 15, 20]\n",
    "list_x = []\n",
    "\n",
    "for n in N:    \n",
    "    rand = np.random.randint(2, size=(20, n))\n",
    "    x = np.concatenate([np.ones((20, 1)), attr, rand], axis=1)\n",
    "    list_x.append(x)\n",
    "\n",
    "eta = 0.2\n",
    "\n",
    "pres = [perceptron(x, c, eta) for x in list_x]\n",
    "\n",
    "print(pres)"
   ]
  }
 ],
 "metadata": {
  "colab": {
   "collapsed_sections": [],
   "name": "perceptron_learning.ipynb",
   "provenance": []
  },
  "kernelspec": {
   "display_name": "Python3 (mlcourse)",
   "language": "python",
   "name": "mlcourse-e661j8pj"
  },
  "language_info": {
   "codemirror_mode": {
    "name": "ipython",
    "version": 3
   },
   "file_extension": ".py",
   "mimetype": "text/x-python",
   "name": "python",
   "nbconvert_exporter": "python",
   "pygments_lexer": "ipython3",
   "version": "3.7.4"
  }
 },
 "nbformat": 4,
 "nbformat_minor": 4
}
