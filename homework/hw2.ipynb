{
 "cells": [
  {
   "cell_type": "markdown",
   "metadata": {},
   "source": [
    "# Homework 2: k-NN Classifier"
   ]
  },
  {
   "cell_type": "markdown",
   "metadata": {},
   "source": [
    "## Libraries Used"
   ]
  },
  {
   "cell_type": "code",
   "execution_count": 1,
   "metadata": {},
   "outputs": [],
   "source": [
    "import sys\n",
    "import pandas as pd\n",
    "import numpy as np\n",
    "from sklearn.neighbors import KNeighborsClassifier"
   ]
  },
  {
   "cell_type": "markdown",
   "metadata": {},
   "source": [
    "## Load Data\n",
    "\n",
    "1. Data is structured like a CSV file, so ```pandas.read_csv()``` is used.\n",
    "2. Implementation:\n",
    "    1. Group examples of same labels with ```Dataframe.groupby()```.\n",
    "    2. Convert groups into a dictionary of lists.\n",
    "    3. Create a map with the first 30 examples (```t_list```) \n",
    "       and a map with the last 20 examples (```d_list```)\n",
    "       of each list in the dictionary.\n",
    "    4. Concatenate the maps into one Dataframe using ```pandas.concat()```."
   ]
  },
  {
   "cell_type": "code",
   "execution_count": 2,
   "metadata": {},
   "outputs": [],
   "source": [
    "def load_data(filename):\n",
    "    '''Loads data, formats it, and returns a training set and a testing set.'''\n",
    "    data = pd.read_csv(filename, header=None)\n",
    "\n",
    "    group = dict(list(data.groupby(data.iloc[:,-1])))\n",
    "\n",
    "    t_size = 30\n",
    "    t_list = map(lambda key: group[key][:t_size], [*group])\n",
    "    d_list = map(lambda key: group[key][t_size:], [*group])\n",
    "\n",
    "    tset = pd.concat(t_list)\n",
    "    dset = pd.concat(d_list)\n",
    "\n",
    "    return [tset, dset]"
   ]
  },
  {
   "cell_type": "markdown",
   "metadata": {},
   "source": [
    "## k-NN Algorithm\n",
    "\n",
    "1. Create model by calling ```KNeighborsClassifier``` with parameter ```k=1```.\n",
    "2. Train the model by passing parameters to ```model.fit()```\n",
    "   including features (```tset.iloc[:,:-1]```) and labels (```tset.iloc[:,-1]```).\n",
    "3. Create a test set of type 2D numpy array using ```dset``` and make predictions.\n",
    "4. Compare the predictions and the test set. Loop through the set to count the number of successful predictions."
   ]
  },
  {
   "cell_type": "code",
   "execution_count": 3,
   "metadata": {},
   "outputs": [],
   "source": [
    "def k_nn(tset, k, dset):\n",
    "    '''Executes k-NN algorithm and returns accuracy information.'''\n",
    "    model = KNeighborsClassifier(n_neighbors=k)\n",
    "    model.fit(tset.iloc[:,:-1], tset.iloc[:,-1])\n",
    "\n",
    "    examples = np.array(dset.iloc[:,:-1]).reshape(len(dset),-1)\n",
    "    predict = model.predict(examples)\n",
    "    \n",
    "    d_size = len(predict)\n",
    "    success = 0\n",
    "    \n",
    "    for p, x in zip(predict, dset.iloc[:,-1]):\n",
    "        if p == x:\n",
    "            success += 1\n",
    "\n",
    "    return [success, d_size - success, success / d_size]"
   ]
  },
  {
   "cell_type": "markdown",
   "metadata": {},
   "source": [
    "## Execution and Results"
   ]
  },
  {
   "cell_type": "code",
   "execution_count": 4,
   "metadata": {},
   "outputs": [
    {
     "name": "stdout",
     "output_type": "stream",
     "text": [
      "Success: 58\n",
      "Failure: 2\n",
      "Accuracy: 0.967\n"
     ]
    }
   ],
   "source": [
    "TSET, DSET = load_data('iris.data.txt') # sys.argv[1]\n",
    "SUCC, FAIL, ACCU = k_nn(TSET, 1, DSET)\n",
    "print(f'Success: {SUCC}\\nFailure: {FAIL}\\nAccuracy: {ACCU:.3f}')"
   ]
  }
 ],
 "metadata": {
  "kernelspec": {
   "display_name": "Python3 (mlcourse)",
   "language": "python",
   "name": "mlcourse-e661j8pj"
  },
  "language_info": {
   "codemirror_mode": {
    "name": "ipython",
    "version": 3
   },
   "file_extension": ".py",
   "mimetype": "text/x-python",
   "name": "python",
   "nbconvert_exporter": "python",
   "pygments_lexer": "ipython3",
   "version": "3.7.4"
  }
 },
 "nbformat": 4,
 "nbformat_minor": 2
}
